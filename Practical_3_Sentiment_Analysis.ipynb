{
 "cells": [
  {
   "cell_type": "code",
   "execution_count": 2,
   "id": "cf59133e",
   "metadata": {},
   "outputs": [],
   "source": [
    "# Import necessary libraries\n",
    "import pandas as pd\n",
    "import torch\n"
   ]
  },
  {
   "cell_type": "code",
   "execution_count": 3,
   "id": "aff7076b",
   "metadata": {},
   "outputs": [],
   "source": [
    "# Check if GPU is available, otherwise use CPU\n",
    "device = torch.device(\"cuda\" if torch.cuda.is_available() else \"cpu\")\n"
   ]
  },
  {
   "cell_type": "code",
   "execution_count": 4,
   "id": "aa0fbe4e",
   "metadata": {},
   "outputs": [],
   "source": [
    "# Set the path to the dataset\n",
    "Data_Path = \"hotel reviews.csv\"\n"
   ]
  },
  {
   "cell_type": "code",
   "execution_count": 5,
   "id": "1f3d197d",
   "metadata": {},
   "outputs": [],
   "source": [
    "# Read the dataset using Pandas\n",
    "df = pd.read_csv(Data_Path)\n"
   ]
  },
  {
   "cell_type": "code",
   "execution_count": 6,
   "id": "fa978d44",
   "metadata": {},
   "outputs": [
    {
     "name": "stdout",
     "output_type": "stream",
     "text": [
      "                                              Review  Rating\n",
      "0  nice hotel expensive parking got good deal sta...       4\n",
      "1  ok nothing special charge diamond member hilto...       2\n",
      "2  nice rooms not 4* experience hotel monaco seat...       3\n",
      "3  unique, great stay, wonderful time hotel monac...       5\n",
      "4  great stay great stay, went seahawk game aweso...       5\n"
     ]
    }
   ],
   "source": [
    "# Display the first few rows of the dataset\n",
    "print(df.head())\n"
   ]
  },
  {
   "cell_type": "code",
   "execution_count": 7,
   "id": "3d5088df",
   "metadata": {},
   "outputs": [],
   "source": [
    "# Specify the neutral range\n",
    "neutral_range = {\"low\": 4, \"high\": 5}\n"
   ]
  },
  {
   "cell_type": "code",
   "execution_count": 8,
   "id": "be3de467",
   "metadata": {},
   "outputs": [],
   "source": [
    "# Create a new column \"Sentiment\" based on the neutral range\n",
    "df[\"Sentiment\"] = df[\"Rating\"].apply(lambda rating: \"neutral\" if neutral_range[\"low\"] <= rating <= neutral_range[\"high\"] else \"non-neutral\")\n"
   ]
  },
  {
   "cell_type": "code",
   "execution_count": 9,
   "id": "83477884",
   "metadata": {},
   "outputs": [
    {
     "name": "stdout",
     "output_type": "stream",
     "text": [
      "                                              Review  Rating    Sentiment\n",
      "0  nice hotel expensive parking got good deal sta...       4      neutral\n",
      "1  ok nothing special charge diamond member hilto...       2  non-neutral\n",
      "2  nice rooms not 4* experience hotel monaco seat...       3  non-neutral\n",
      "3  unique, great stay, wonderful time hotel monac...       5      neutral\n",
      "4  great stay great stay, went seahawk game aweso...       5      neutral\n"
     ]
    }
   ],
   "source": [
    "# Display the updated DataFrame\n",
    "print(df.head())\n"
   ]
  },
  {
   "cell_type": "code",
   "execution_count": null,
   "id": "df5b8178",
   "metadata": {},
   "outputs": [],
   "source": []
  }
 ],
 "metadata": {
  "kernelspec": {
   "display_name": "Python 3 (ipykernel)",
   "language": "python",
   "name": "python3"
  },
  "language_info": {
   "codemirror_mode": {
    "name": "ipython",
    "version": 3
   },
   "file_extension": ".py",
   "mimetype": "text/x-python",
   "name": "python",
   "nbconvert_exporter": "python",
   "pygments_lexer": "ipython3",
   "version": "3.11.3"
  }
 },
 "nbformat": 4,
 "nbformat_minor": 5
}
