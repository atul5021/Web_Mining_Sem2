{
 "cells": [
  {
   "cell_type": "code",
   "execution_count": 25,
   "id": "44a6c758-20e6-48e1-93be-7109d7476015",
   "metadata": {},
   "outputs": [],
   "source": [
    "\n",
    "#Theory: A web crawler, also known as a spider or a bot, is a program that systematically browses the World Wide Web, typically for the purpose of indexing or gathering information. The crawler starts at a particular webpage and follows links to other pages, extracting information along the way. The information gathered by a web crawler can be used for various purposes, such as creating a search engine index, monitoring website changes, or scraping data for research or analysis. Web crawlers typically use algorithms to determine which links to follow and which pages to index, and they can be programmed to obey certain rules, such as not crawling certain parts of a website or not overwhelming a server with too many requests. However, some web crawlers can be malicious and can be used to scrape or steal data, or to overload a website's servers with too many requests, causing a denial-of-service attack.\n"
   ]
  },
  {
   "cell_type": "code",
   "execution_count": 26,
   "id": "2c5a4fb7-3623-4426-8b1b-75f14619a74e",
   "metadata": {},
   "outputs": [],
   "source": [
    "import requests"
   ]
  },
  {
   "cell_type": "code",
   "execution_count": 27,
   "id": "33cddb4c-f910-4c3e-95e4-76d3170175d0",
   "metadata": {},
   "outputs": [],
   "source": [
    "\n",
    "from bs4 import BeautifulSoup\n"
   ]
  },
  {
   "cell_type": "code",
   "execution_count": 28,
   "id": "85e2e0ce-6202-4716-b67b-4840cc2a378d",
   "metadata": {},
   "outputs": [],
   "source": [
    "code=requests.get(\"https://www.google.in\")\n"
   ]
  },
  {
   "cell_type": "code",
   "execution_count": 29,
   "id": "6ec3c03e-c4f2-4cfa-b675-e0350c0cd976",
   "metadata": {},
   "outputs": [],
   "source": [
    "plain=code.text\n"
   ]
  },
  {
   "cell_type": "code",
   "execution_count": 30,
   "id": "81a178bc-e226-4cf3-996d-5095b9595994",
   "metadata": {},
   "outputs": [],
   "source": [
    "soup=BeautifulSoup(plain,\"html.parser\")"
   ]
  },
  {
   "cell_type": "code",
   "execution_count": 31,
   "id": "7363cd49-b5e6-4ebd-8778-93b2bcd98f9b",
   "metadata": {},
   "outputs": [
    {
     "name": "stdout",
     "output_type": "stream",
     "text": [
      "https://www.google.co.in/imghp?hl=en&tab=wi\n",
      "https://maps.google.co.in/maps?hl=en&tab=wl\n",
      "https://play.google.com/?hl=en&tab=w8\n",
      "https://www.youtube.com/?tab=w1\n",
      "https://news.google.com/?tab=wn\n",
      "https://mail.google.com/mail/?tab=wm\n",
      "https://drive.google.com/?tab=wo\n",
      "https://www.google.co.in/intl/en/about/products?tab=wh\n",
      "http://www.google.co.in/history/optout?hl=en\n",
      "/preferences?hl=en\n",
      "https://accounts.google.com/ServiceLogin?hl=en&passive=true&continue=https://www.google.co.in/&ec=GAZAAQ\n",
      "/advanced_search?hl=en-IN&authuser=0\n",
      "https://www.google.co.in/setprefs?sig=0_XlDdgeuylcjeGpmZI5gg-X5oSW0%3D&hl=hi&source=homepage&sa=X&ved=0ahUKEwiSuZHY1a-EAxWOIEQIHSysDTEQ2ZgBCAU\n",
      "https://www.google.co.in/setprefs?sig=0_XlDdgeuylcjeGpmZI5gg-X5oSW0%3D&hl=bn&source=homepage&sa=X&ved=0ahUKEwiSuZHY1a-EAxWOIEQIHSysDTEQ2ZgBCAY\n",
      "https://www.google.co.in/setprefs?sig=0_XlDdgeuylcjeGpmZI5gg-X5oSW0%3D&hl=te&source=homepage&sa=X&ved=0ahUKEwiSuZHY1a-EAxWOIEQIHSysDTEQ2ZgBCAc\n",
      "https://www.google.co.in/setprefs?sig=0_XlDdgeuylcjeGpmZI5gg-X5oSW0%3D&hl=mr&source=homepage&sa=X&ved=0ahUKEwiSuZHY1a-EAxWOIEQIHSysDTEQ2ZgBCAg\n",
      "https://www.google.co.in/setprefs?sig=0_XlDdgeuylcjeGpmZI5gg-X5oSW0%3D&hl=ta&source=homepage&sa=X&ved=0ahUKEwiSuZHY1a-EAxWOIEQIHSysDTEQ2ZgBCAk\n",
      "https://www.google.co.in/setprefs?sig=0_XlDdgeuylcjeGpmZI5gg-X5oSW0%3D&hl=gu&source=homepage&sa=X&ved=0ahUKEwiSuZHY1a-EAxWOIEQIHSysDTEQ2ZgBCAo\n",
      "https://www.google.co.in/setprefs?sig=0_XlDdgeuylcjeGpmZI5gg-X5oSW0%3D&hl=kn&source=homepage&sa=X&ved=0ahUKEwiSuZHY1a-EAxWOIEQIHSysDTEQ2ZgBCAs\n",
      "https://www.google.co.in/setprefs?sig=0_XlDdgeuylcjeGpmZI5gg-X5oSW0%3D&hl=ml&source=homepage&sa=X&ved=0ahUKEwiSuZHY1a-EAxWOIEQIHSysDTEQ2ZgBCAw\n",
      "https://www.google.co.in/setprefs?sig=0_XlDdgeuylcjeGpmZI5gg-X5oSW0%3D&hl=pa&source=homepage&sa=X&ved=0ahUKEwiSuZHY1a-EAxWOIEQIHSysDTEQ2ZgBCA0\n",
      "/intl/en/ads/\n",
      "http://www.google.co.in/services/\n",
      "/intl/en/about.html\n",
      "https://www.google.co.in/setprefdomain?prefdom=US&sig=K_Dv1v5tEDNSHtTbXa8kPxrf6hlhw%3D\n",
      "/intl/en/policies/privacy/\n",
      "/intl/en/policies/terms/\n"
     ]
    }
   ],
   "source": [
    "\n",
    "for link in soup.find_all('a'):\n",
    "    print(link.get('href'))\n"
   ]
  },
  {
   "cell_type": "code",
   "execution_count": null,
   "id": "ba7cb0ac-6592-46f5-8d1a-aa0c45b996c4",
   "metadata": {},
   "outputs": [],
   "source": []
  }
 ],
 "metadata": {
  "kernelspec": {
   "display_name": "Python 3 (ipykernel)",
   "language": "python",
   "name": "python3"
  },
  "language_info": {
   "codemirror_mode": {
    "name": "ipython",
    "version": 3
   },
   "file_extension": ".py",
   "mimetype": "text/x-python",
   "name": "python",
   "nbconvert_exporter": "python",
   "pygments_lexer": "ipython3",
   "version": "3.11.3"
  }
 },
 "nbformat": 4,
 "nbformat_minor": 5
}
