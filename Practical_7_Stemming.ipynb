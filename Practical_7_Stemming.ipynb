{
 "cells": [
  {
   "cell_type": "code",
   "execution_count": 1,
   "id": "09e37990-f6d7-4ef4-b291-5c2a451ebcfc",
   "metadata": {},
   "outputs": [],
   "source": [
    "#Stemming is the process of reducing a word to its word stem. Word stem is a base or root form of the word and doesn’t need to be an existing word. For example, the Porter algorithm reduces the words “argue”, “argued”, “argues” and “arguing” to the stem “argu” which isn’t an existing word.\n"
   ]
  },
  {
   "cell_type": "code",
   "execution_count": 2,
   "id": "dd60ff44-cbc8-4a4b-8a48-72820a2a5c27",
   "metadata": {},
   "outputs": [
    {
     "name": "stderr",
     "output_type": "stream",
     "text": [
      "[nltk_data] Downloading package wordnet to\n",
      "[nltk_data]     C:\\Users\\ompan\\AppData\\Roaming\\nltk_data...\n"
     ]
    },
    {
     "data": {
      "text/plain": [
       "True"
      ]
     },
     "execution_count": 2,
     "metadata": {},
     "output_type": "execute_result"
    }
   ],
   "source": [
    "\n",
    "import nltk\n",
    "nltk.download('wordnet')"
   ]
  },
  {
   "cell_type": "code",
   "execution_count": 3,
   "id": "cc6142e8-6ea6-4fd3-8928-4859b03e00be",
   "metadata": {},
   "outputs": [
    {
     "data": {
      "text/plain": [
       "'wait'"
      ]
     },
     "execution_count": 3,
     "metadata": {},
     "output_type": "execute_result"
    }
   ],
   "source": [
    "\n",
    "from nltk.stem import PorterStemmer\n",
    "pst = PorterStemmer()\n",
    "pst.stem(\"waiting\")"
   ]
  },
  {
   "cell_type": "code",
   "execution_count": 4,
   "id": "0b9df93d-f950-4029-bfb8-cba028e34092",
   "metadata": {},
   "outputs": [
    {
     "name": "stdout",
     "output_type": "stream",
     "text": [
      "--------------------\n",
      "PORTER STEMMER\n",
      "--------------------\n",
      "Waiting:wait\n",
      "Waited:wait\n",
      "Waits:wait\n"
     ]
    }
   ],
   "source": [
    "print('-'*20)\n",
    "print(\"PORTER STEMMER\")\n",
    "print('-'*20)\n",
    "stm = [\"Waiting\",\"Waited\",\"Waits\"]\n",
    "for word in stm:\n",
    "    print(word+\":\"+pst.stem(word))"
   ]
  },
  {
   "cell_type": "code",
   "execution_count": 5,
   "id": "e907696b-f94f-4094-964c-f174fe9d83fe",
   "metadata": {},
   "outputs": [
    {
     "name": "stdout",
     "output_type": "stream",
     "text": [
      "--------------------\n",
      "LANCASTER STEMMER\n",
      "--------------------\n"
     ]
    }
   ],
   "source": [
    "print('-'*20)\n",
    "print(\"LANCASTER STEMMER\")\n",
    "print('-'*20)\n"
   ]
  },
  {
   "cell_type": "code",
   "execution_count": 6,
   "id": "47c63e06-eb4a-47a8-8df5-84d00729d26c",
   "metadata": {},
   "outputs": [],
   "source": [
    "from nltk.stem import LancasterStemmer\n",
    "lst = LancasterStemmer()\n",
    "stm = [\"giving\",\"given\",\"gave\"]\n"
   ]
  },
  {
   "cell_type": "code",
   "execution_count": 7,
   "id": "f4f3ab0f-3e17-4b56-b5e4-95ff39c8c440",
   "metadata": {},
   "outputs": [
    {
     "name": "stdout",
     "output_type": "stream",
     "text": [
      "giving:giv\n",
      "given:giv\n",
      "gave:gav\n"
     ]
    }
   ],
   "source": [
    "for word in stm:\n",
    "    print(word+\":\"+lst.stem(word))\n"
   ]
  },
  {
   "cell_type": "code",
   "execution_count": 8,
   "id": "90f32062-38d9-4ed4-ac6e-21814f30b5f9",
   "metadata": {},
   "outputs": [],
   "source": [
    "#Lemmatization is the process of reducing a word to its base or dictionary form, known as the lemma. For example, the lemma of the word “cats” is “cat”, and the lemma of “running” is “run”.\n"
   ]
  },
  {
   "cell_type": "code",
   "execution_count": 10,
   "id": "6bed2a05-6688-4e92-9064-4bb6295d8e4f",
   "metadata": {},
   "outputs": [
    {
     "name": "stdout",
     "output_type": "stream",
     "text": [
      "--------------------\n",
      "WORD NET LEMMATIZER\n",
      "--------------------\n"
     ]
    }
   ],
   "source": [
    "print('-'*20)\n",
    "print(\"WORD NET LEMMATIZER\")\n",
    "print('-'*20)\n",
    "\n",
    "\n"
   ]
  },
  {
   "cell_type": "code",
   "execution_count": 13,
   "id": "3b1752aa-76b6-41f9-bb5f-200f0c7beab0",
   "metadata": {},
   "outputs": [
    {
     "name": "stdout",
     "output_type": "stream",
     "text": [
      "rocks : rock\n",
      "corpora : corpus\n"
     ]
    }
   ],
   "source": [
    "from nltk.stem import WordNetLemmatizer\n",
    "lemma = WordNetLemmatizer()\n",
    "print(\"rocks :\",lemma.lemmatize(\"rocks\"))\n",
    "print(\"corpora :\",lemma.lemmatize(\"corpora\"))"
   ]
  },
  {
   "cell_type": "code",
   "execution_count": 12,
   "id": "3134c54d-b5eb-4098-81f0-f671b603ad3b",
   "metadata": {},
   "outputs": [
    {
     "name": "stderr",
     "output_type": "stream",
     "text": [
      "[nltk_data] Downloading package omw-1.4 to\n",
      "[nltk_data]     C:\\Users\\ompan\\AppData\\Roaming\\nltk_data...\n"
     ]
    },
    {
     "data": {
      "text/plain": [
       "True"
      ]
     },
     "execution_count": 12,
     "metadata": {},
     "output_type": "execute_result"
    }
   ],
   "source": [
    "import nltk\n",
    "nltk.download('omw-1.4')"
   ]
  },
  {
   "cell_type": "code",
   "execution_count": 14,
   "id": "7c6eda9f-374e-4ae4-9d5b-8214bf1438b7",
   "metadata": {},
   "outputs": [
    {
     "name": "stdout",
     "output_type": "stream",
     "text": [
      "--------------------\n",
      "WORD NET LEMMATIZER\n",
      "--------------------\n",
      "rocks : rock\n",
      "corpora : corpus\n"
     ]
    }
   ],
   "source": [
    "print('-'*20)\n",
    "print(\"WORD NET LEMMATIZER\")\n",
    "print('-'*20)\n",
    "from nltk.stem import WordNetLemmatizer\n",
    "lemma = WordNetLemmatizer()\n",
    "print(\"rocks :\",lemma.lemmatize(\"rocks\"))\n",
    "print(\"corpora :\",lemma.lemmatize(\"corpora\"))\n"
   ]
  },
  {
   "cell_type": "code",
   "execution_count": null,
   "id": "fd4f7293-45fa-4f4c-a5d2-23aae4c088a9",
   "metadata": {},
   "outputs": [],
   "source": []
  }
 ],
 "metadata": {
  "kernelspec": {
   "display_name": "Python 3 (ipykernel)",
   "language": "python",
   "name": "python3"
  },
  "language_info": {
   "codemirror_mode": {
    "name": "ipython",
    "version": 3
   },
   "file_extension": ".py",
   "mimetype": "text/x-python",
   "name": "python",
   "nbconvert_exporter": "python",
   "pygments_lexer": "ipython3",
   "version": "3.11.3"
  }
 },
 "nbformat": 4,
 "nbformat_minor": 5
}
